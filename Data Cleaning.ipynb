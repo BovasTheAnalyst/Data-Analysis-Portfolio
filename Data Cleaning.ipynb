{
 "cells": [
  {
   "cell_type": "code",
   "execution_count": 14,
   "metadata": {},
   "outputs": [
    {
     "name": "stderr",
     "output_type": "stream",
     "text": [
      "[nltk_data] Downloading package stopwords to\n",
      "[nltk_data]     C:\\Users\\Bovas\\AppData\\Roaming\\nltk_data...\n",
      "[nltk_data]   Package stopwords is already up-to-date!\n",
      "[nltk_data] Downloading package wordnet to\n",
      "[nltk_data]     C:\\Users\\Bovas\\AppData\\Roaming\\nltk_data...\n"
     ]
    },
    {
     "data": {
      "text/plain": [
       "True"
      ]
     },
     "execution_count": 14,
     "metadata": {},
     "output_type": "execute_result"
    }
   ],
   "source": [
    "import nltk\n",
    "nltk.download('stopwords')\n",
    "nltk.download('wordnet')"
   ]
  },
  {
   "cell_type": "code",
   "execution_count": 1,
   "metadata": {},
   "outputs": [],
   "source": [
    "#moprt the modules\n",
    "\n",
    "import pandas as pd\n",
    "import matplotlib.pyplot as plt\n",
    "import re\n",
    "import seaborn as sns"
   ]
  },
  {
   "cell_type": "code",
   "execution_count": 30,
   "metadata": {},
   "outputs": [
    {
     "data": {
      "text/html": [
       "<div>\n",
       "<style scoped>\n",
       "    .dataframe tbody tr th:only-of-type {\n",
       "        vertical-align: middle;\n",
       "    }\n",
       "\n",
       "    .dataframe tbody tr th {\n",
       "        vertical-align: top;\n",
       "    }\n",
       "\n",
       "    .dataframe thead th {\n",
       "        text-align: right;\n",
       "    }\n",
       "</style>\n",
       "<table border=\"1\" class=\"dataframe\">\n",
       "  <thead>\n",
       "    <tr style=\"text-align: right;\">\n",
       "      <th></th>\n",
       "      <th>Unnamed: 0</th>\n",
       "      <th>reviews</th>\n",
       "      <th>country</th>\n",
       "      <th>date</th>\n",
       "    </tr>\n",
       "  </thead>\n",
       "  <tbody>\n",
       "    <tr>\n",
       "      <th>0</th>\n",
       "      <td>0</td>\n",
       "      <td>✅ Trip Verified | I am a British Airways Gold ...</td>\n",
       "      <td>United States</td>\n",
       "      <td>11th February 2024</td>\n",
       "    </tr>\n",
       "    <tr>\n",
       "      <th>1</th>\n",
       "      <td>1</td>\n",
       "      <td>Not Verified |  Another case of reviewing Brit...</td>\n",
       "      <td>United Kingdom</td>\n",
       "      <td>8th February 2024</td>\n",
       "    </tr>\n",
       "    <tr>\n",
       "      <th>2</th>\n",
       "      <td>2</td>\n",
       "      <td>✅ Trip Verified | On the memorable day of Janu...</td>\n",
       "      <td>Nigeria</td>\n",
       "      <td>6th February 2024</td>\n",
       "    </tr>\n",
       "    <tr>\n",
       "      <th>3</th>\n",
       "      <td>3</td>\n",
       "      <td>Not Verified | I did not actually get to fly w...</td>\n",
       "      <td>United Kingdom</td>\n",
       "      <td>5th February 2024</td>\n",
       "    </tr>\n",
       "    <tr>\n",
       "      <th>4</th>\n",
       "      <td>4</td>\n",
       "      <td>✅ Trip Verified | We had possibly the worse ch...</td>\n",
       "      <td>United Kingdom</td>\n",
       "      <td>2nd February 2024</td>\n",
       "    </tr>\n",
       "  </tbody>\n",
       "</table>\n",
       "</div>"
      ],
      "text/plain": [
       "   Unnamed: 0                                            reviews  \\\n",
       "0           0  ✅ Trip Verified | I am a British Airways Gold ...   \n",
       "1           1  Not Verified |  Another case of reviewing Brit...   \n",
       "2           2  ✅ Trip Verified | On the memorable day of Janu...   \n",
       "3           3  Not Verified | I did not actually get to fly w...   \n",
       "4           4  ✅ Trip Verified | We had possibly the worse ch...   \n",
       "\n",
       "          country                date  \n",
       "0   United States  11th February 2024  \n",
       "1  United Kingdom   8th February 2024  \n",
       "2         Nigeria   6th February 2024  \n",
       "3  United Kingdom   5th February 2024  \n",
       "4  United Kingdom   2nd February 2024  "
      ]
     },
     "execution_count": 30,
     "metadata": {},
     "output_type": "execute_result"
    }
   ],
   "source": [
    "#Read the CSV file\n",
    "\n",
    "df=pd.read_csv(\"D:\\Bovas\\Data Analysis Projects\\BA\\BA_Reviews.csv\")\n",
    "df.head()\n"
   ]
  },
  {
   "cell_type": "code",
   "execution_count": 31,
   "metadata": {},
   "outputs": [
    {
     "data": {
      "text/plain": [
       "0        True\n",
       "1       False\n",
       "2        True\n",
       "3       False\n",
       "4        True\n",
       "        ...  \n",
       "3495    False\n",
       "3496    False\n",
       "3497    False\n",
       "3498    False\n",
       "3499    False\n",
       "Name: verified, Length: 3500, dtype: bool"
      ]
     },
     "execution_count": 31,
     "metadata": {},
     "output_type": "execute_result"
    }
   ],
   "source": [
    "#Creating column for verified\n",
    "\n",
    "df['verified']=df.reviews.str.contains(\"Trip Verified\")\n",
    "df.verified\n"
   ]
  },
  {
   "cell_type": "code",
   "execution_count": 35,
   "metadata": {},
   "outputs": [],
   "source": [
    "#for lemmatizing words we will use nltk library\n",
    "from nltk.stem import WordNetLemmatizer\n",
    "from nltk.corpus import stopwords\n",
    "lemma = WordNetLemmatizer()\n",
    "\n",
    "#strip the string ✅ Trip Verified |\n",
    "\n",
    "reviews_data = df.reviews.str.strip(\"✅ Trip Verified |\")\n",
    "\n",
    "#create a empty list to store the corpus data\n",
    "\n",
    "corpus = []\n",
    "\n",
    "#loop through each word in the corpus for removing the punctuations, lower case, join and add it to corpus\n",
    "\n",
    "for rev in reviews_data:\n",
    "    rev=re.sub('[^a-zA-Z]',' ', rev)\n",
    "    rev=rev.lower()\n",
    "    rev=rev.split()\n",
    "    rev=[lemma.lemmatize(word) for word in rev if word not in set(stopwords.words(\"english\"))]\n",
    "    rev=\" \".join(rev)\n",
    "    corpus.append(rev)"
   ]
  },
  {
   "cell_type": "code",
   "execution_count": 36,
   "metadata": {},
   "outputs": [],
   "source": [
    "df['corpus']=corpus"
   ]
  },
  {
   "cell_type": "code",
   "execution_count": 37,
   "metadata": {},
   "outputs": [
    {
     "data": {
      "text/html": [
       "<div>\n",
       "<style scoped>\n",
       "    .dataframe tbody tr th:only-of-type {\n",
       "        vertical-align: middle;\n",
       "    }\n",
       "\n",
       "    .dataframe tbody tr th {\n",
       "        vertical-align: top;\n",
       "    }\n",
       "\n",
       "    .dataframe thead th {\n",
       "        text-align: right;\n",
       "    }\n",
       "</style>\n",
       "<table border=\"1\" class=\"dataframe\">\n",
       "  <thead>\n",
       "    <tr style=\"text-align: right;\">\n",
       "      <th></th>\n",
       "      <th>Unnamed: 0</th>\n",
       "      <th>reviews</th>\n",
       "      <th>country</th>\n",
       "      <th>date</th>\n",
       "      <th>verified</th>\n",
       "      <th>corpus</th>\n",
       "    </tr>\n",
       "  </thead>\n",
       "  <tbody>\n",
       "    <tr>\n",
       "      <th>0</th>\n",
       "      <td>0</td>\n",
       "      <td>✅ Trip Verified | I am a British Airways Gold ...</td>\n",
       "      <td>United States</td>\n",
       "      <td>11th February 2024</td>\n",
       "      <td>True</td>\n",
       "      <td>british airway gold guest list member lifetime...</td>\n",
       "    </tr>\n",
       "    <tr>\n",
       "      <th>1</th>\n",
       "      <td>1</td>\n",
       "      <td>Not Verified |  Another case of reviewing Brit...</td>\n",
       "      <td>United Kingdom</td>\n",
       "      <td>8th February 2024</td>\n",
       "      <td>False</td>\n",
       "      <td>verified another case reviewing british airway...</td>\n",
       "    </tr>\n",
       "    <tr>\n",
       "      <th>2</th>\n",
       "      <td>2</td>\n",
       "      <td>✅ Trip Verified | On the memorable day of Janu...</td>\n",
       "      <td>Nigeria</td>\n",
       "      <td>6th February 2024</td>\n",
       "      <td>True</td>\n",
       "      <td>memorable day january th family embarked journ...</td>\n",
       "    </tr>\n",
       "    <tr>\n",
       "      <th>3</th>\n",
       "      <td>3</td>\n",
       "      <td>Not Verified | I did not actually get to fly w...</td>\n",
       "      <td>United Kingdom</td>\n",
       "      <td>5th February 2024</td>\n",
       "      <td>False</td>\n",
       "      <td>verified actually get fly ba cancelled flight ...</td>\n",
       "    </tr>\n",
       "    <tr>\n",
       "      <th>4</th>\n",
       "      <td>4</td>\n",
       "      <td>✅ Trip Verified | We had possibly the worse ch...</td>\n",
       "      <td>United Kingdom</td>\n",
       "      <td>2nd February 2024</td>\n",
       "      <td>True</td>\n",
       "      <td>possibly worse check experience ever ever took...</td>\n",
       "    </tr>\n",
       "    <tr>\n",
       "      <th>5</th>\n",
       "      <td>5</td>\n",
       "      <td>✅ Trip Verified |  I flew to LHR from ATH in C...</td>\n",
       "      <td>Japan</td>\n",
       "      <td>30th January 2024</td>\n",
       "      <td>True</td>\n",
       "      <td>flew lhr ath club europe ba dec transfer jal f...</td>\n",
       "    </tr>\n",
       "    <tr>\n",
       "      <th>6</th>\n",
       "      <td>6</td>\n",
       "      <td>✅ Trip Verified |  I like the British Airways ...</td>\n",
       "      <td>United Kingdom</td>\n",
       "      <td>29th January 2024</td>\n",
       "      <td>True</td>\n",
       "      <td>like british airway world traveller plus produ...</td>\n",
       "    </tr>\n",
       "    <tr>\n",
       "      <th>7</th>\n",
       "      <td>7</td>\n",
       "      <td>✅ Trip Verified |  I have come to boarding and...</td>\n",
       "      <td>Ukraine</td>\n",
       "      <td>28th January 2024</td>\n",
       "      <td>True</td>\n",
       "      <td>come boarding cabin luggage taken plane full a...</td>\n",
       "    </tr>\n",
       "    <tr>\n",
       "      <th>8</th>\n",
       "      <td>8</td>\n",
       "      <td>✅ Trip Verified | Stinking nappies being chang...</td>\n",
       "      <td>United Kingdom</td>\n",
       "      <td>26th January 2024</td>\n",
       "      <td>True</td>\n",
       "      <td>stinking nappy changed business cabin througho...</td>\n",
       "    </tr>\n",
       "    <tr>\n",
       "      <th>9</th>\n",
       "      <td>9</td>\n",
       "      <td>✅ Trip Verified | Worst service ever. Lost bag...</td>\n",
       "      <td>Germany</td>\n",
       "      <td>23rd January 2024</td>\n",
       "      <td>True</td>\n",
       "      <td>worst service ever lost baggage delayed flight...</td>\n",
       "    </tr>\n",
       "  </tbody>\n",
       "</table>\n",
       "</div>"
      ],
      "text/plain": [
       "   Unnamed: 0                                            reviews  \\\n",
       "0           0  ✅ Trip Verified | I am a British Airways Gold ...   \n",
       "1           1  Not Verified |  Another case of reviewing Brit...   \n",
       "2           2  ✅ Trip Verified | On the memorable day of Janu...   \n",
       "3           3  Not Verified | I did not actually get to fly w...   \n",
       "4           4  ✅ Trip Verified | We had possibly the worse ch...   \n",
       "5           5  ✅ Trip Verified |  I flew to LHR from ATH in C...   \n",
       "6           6  ✅ Trip Verified |  I like the British Airways ...   \n",
       "7           7  ✅ Trip Verified |  I have come to boarding and...   \n",
       "8           8  ✅ Trip Verified | Stinking nappies being chang...   \n",
       "9           9  ✅ Trip Verified | Worst service ever. Lost bag...   \n",
       "\n",
       "          country                date  verified  \\\n",
       "0   United States  11th February 2024      True   \n",
       "1  United Kingdom   8th February 2024     False   \n",
       "2         Nigeria   6th February 2024      True   \n",
       "3  United Kingdom   5th February 2024     False   \n",
       "4  United Kingdom   2nd February 2024      True   \n",
       "5           Japan   30th January 2024      True   \n",
       "6  United Kingdom   29th January 2024      True   \n",
       "7         Ukraine   28th January 2024      True   \n",
       "8  United Kingdom   26th January 2024      True   \n",
       "9         Germany   23rd January 2024      True   \n",
       "\n",
       "                                              corpus  \n",
       "0  british airway gold guest list member lifetime...  \n",
       "1  verified another case reviewing british airway...  \n",
       "2  memorable day january th family embarked journ...  \n",
       "3  verified actually get fly ba cancelled flight ...  \n",
       "4  possibly worse check experience ever ever took...  \n",
       "5  flew lhr ath club europe ba dec transfer jal f...  \n",
       "6  like british airway world traveller plus produ...  \n",
       "7  come boarding cabin luggage taken plane full a...  \n",
       "8  stinking nappy changed business cabin througho...  \n",
       "9  worst service ever lost baggage delayed flight...  "
      ]
     },
     "execution_count": 37,
     "metadata": {},
     "output_type": "execute_result"
    }
   ],
   "source": [
    "df.head(10)"
   ]
  },
  {
   "cell_type": "code",
   "execution_count": 38,
   "metadata": {},
   "outputs": [
    {
     "data": {
      "text/plain": [
       "Unnamed: 0     int64\n",
       "reviews       object\n",
       "country       object\n",
       "date          object\n",
       "verified        bool\n",
       "corpus        object\n",
       "dtype: object"
      ]
     },
     "execution_count": 38,
     "metadata": {},
     "output_type": "execute_result"
    }
   ],
   "source": [
    "df.dtypes"
   ]
  },
  {
   "cell_type": "code",
   "execution_count": 40,
   "metadata": {},
   "outputs": [
    {
     "name": "stdout",
     "output_type": "stream",
     "text": [
      "      Unnamed: 0                                            reviews  \\\n",
      "0              0  ✅ Trip Verified | I am a British Airways Gold ...   \n",
      "1              1  Not Verified |  Another case of reviewing Brit...   \n",
      "2              2  ✅ Trip Verified | On the memorable day of Janu...   \n",
      "3              3  Not Verified | I did not actually get to fly w...   \n",
      "4              4  ✅ Trip Verified | We had possibly the worse ch...   \n",
      "...          ...                                                ...   \n",
      "3495        3495  This was the first long-haul flight I'd taken ...   \n",
      "3496        3496  Economy class on 28 Aug from London (LHR) to N...   \n",
      "3497        3497  I'm regularly flying Perth-Hong Kong-London-Po...   \n",
      "3498        3498  Travelled LHR to Montreal 21st August 2014 and...   \n",
      "3499        3499  Booked a British Airways holiday so that's fli...   \n",
      "\n",
      "             country                date  verified  \\\n",
      "0      United States  11th February 2024      True   \n",
      "1     United Kingdom   8th February 2024     False   \n",
      "2            Nigeria   6th February 2024      True   \n",
      "3     United Kingdom   5th February 2024     False   \n",
      "4     United Kingdom   2nd February 2024      True   \n",
      "...              ...                 ...       ...   \n",
      "3495  United Kingdom  6th September 2014     False   \n",
      "3496  United Kingdom  6th September 2014     False   \n",
      "3497       Australia  6th September 2014     False   \n",
      "3498  United Kingdom  6th September 2014     False   \n",
      "3499  United Kingdom  6th September 2014     False   \n",
      "\n",
      "                                                 corpus  \n",
      "0     british airway gold guest list member lifetime...  \n",
      "1     verified another case reviewing british airway...  \n",
      "2     memorable day january th family embarked journ...  \n",
      "3     verified actually get fly ba cancelled flight ...  \n",
      "4     possibly worse check experience ever ever took...  \n",
      "...                                                 ...  \n",
      "3495  first long haul flight taken year high hope lo...  \n",
      "3496  economy class aug london lhr new york jfk boar...  \n",
      "3497  regularly flying perth hong kong london port s...  \n",
      "3498  avelled lhr montreal st august montreal lhr st...  \n",
      "3499  booked british airway holiday flight hotel lon...  \n",
      "\n",
      "[3500 rows x 6 columns]\n"
     ]
    }
   ],
   "source": [
    "print(df)"
   ]
  },
  {
   "cell_type": "code",
   "execution_count": 41,
   "metadata": {},
   "outputs": [
    {
     "data": {
      "text/html": [
       "<div>\n",
       "<style scoped>\n",
       "    .dataframe tbody tr th:only-of-type {\n",
       "        vertical-align: middle;\n",
       "    }\n",
       "\n",
       "    .dataframe tbody tr th {\n",
       "        vertical-align: top;\n",
       "    }\n",
       "\n",
       "    .dataframe thead th {\n",
       "        text-align: right;\n",
       "    }\n",
       "</style>\n",
       "<table border=\"1\" class=\"dataframe\">\n",
       "  <thead>\n",
       "    <tr style=\"text-align: right;\">\n",
       "      <th></th>\n",
       "      <th>Unnamed: 0</th>\n",
       "      <th>reviews</th>\n",
       "      <th>country</th>\n",
       "      <th>date</th>\n",
       "      <th>verified</th>\n",
       "      <th>corpus</th>\n",
       "    </tr>\n",
       "  </thead>\n",
       "  <tbody>\n",
       "    <tr>\n",
       "      <th>0</th>\n",
       "      <td>0</td>\n",
       "      <td>✅ Trip Verified | I am a British Airways Gold ...</td>\n",
       "      <td>United States</td>\n",
       "      <td>11th February 2024</td>\n",
       "      <td>True</td>\n",
       "      <td>british airway gold guest list member lifetime...</td>\n",
       "    </tr>\n",
       "    <tr>\n",
       "      <th>1</th>\n",
       "      <td>1</td>\n",
       "      <td>Not Verified |  Another case of reviewing Brit...</td>\n",
       "      <td>United Kingdom</td>\n",
       "      <td>8th February 2024</td>\n",
       "      <td>False</td>\n",
       "      <td>verified another case reviewing british airway...</td>\n",
       "    </tr>\n",
       "    <tr>\n",
       "      <th>2</th>\n",
       "      <td>2</td>\n",
       "      <td>✅ Trip Verified | On the memorable day of Janu...</td>\n",
       "      <td>Nigeria</td>\n",
       "      <td>6th February 2024</td>\n",
       "      <td>True</td>\n",
       "      <td>memorable day january th family embarked journ...</td>\n",
       "    </tr>\n",
       "    <tr>\n",
       "      <th>3</th>\n",
       "      <td>3</td>\n",
       "      <td>Not Verified | I did not actually get to fly w...</td>\n",
       "      <td>United Kingdom</td>\n",
       "      <td>5th February 2024</td>\n",
       "      <td>False</td>\n",
       "      <td>verified actually get fly ba cancelled flight ...</td>\n",
       "    </tr>\n",
       "    <tr>\n",
       "      <th>4</th>\n",
       "      <td>4</td>\n",
       "      <td>✅ Trip Verified | We had possibly the worse ch...</td>\n",
       "      <td>United Kingdom</td>\n",
       "      <td>2nd February 2024</td>\n",
       "      <td>True</td>\n",
       "      <td>possibly worse check experience ever ever took...</td>\n",
       "    </tr>\n",
       "  </tbody>\n",
       "</table>\n",
       "</div>"
      ],
      "text/plain": [
       "   Unnamed: 0                                            reviews  \\\n",
       "0           0  ✅ Trip Verified | I am a British Airways Gold ...   \n",
       "1           1  Not Verified |  Another case of reviewing Brit...   \n",
       "2           2  ✅ Trip Verified | On the memorable day of Janu...   \n",
       "3           3  Not Verified | I did not actually get to fly w...   \n",
       "4           4  ✅ Trip Verified | We had possibly the worse ch...   \n",
       "\n",
       "          country                date  verified  \\\n",
       "0   United States  11th February 2024      True   \n",
       "1  United Kingdom   8th February 2024     False   \n",
       "2         Nigeria   6th February 2024      True   \n",
       "3  United Kingdom   5th February 2024     False   \n",
       "4  United Kingdom   2nd February 2024      True   \n",
       "\n",
       "                                              corpus  \n",
       "0  british airway gold guest list member lifetime...  \n",
       "1  verified another case reviewing british airway...  \n",
       "2  memorable day january th family embarked journ...  \n",
       "3  verified actually get fly ba cancelled flight ...  \n",
       "4  possibly worse check experience ever ever took...  "
      ]
     },
     "execution_count": 41,
     "metadata": {},
     "output_type": "execute_result"
    }
   ],
   "source": [
    "df.head()"
   ]
  },
  {
   "cell_type": "code",
   "execution_count": 42,
   "metadata": {},
   "outputs": [
    {
     "data": {
      "text/plain": [
       "(3500, 6)"
      ]
     },
     "execution_count": 42,
     "metadata": {},
     "output_type": "execute_result"
    }
   ],
   "source": [
    "df.shape"
   ]
  },
  {
   "cell_type": "code",
   "execution_count": 46,
   "metadata": {},
   "outputs": [],
   "source": [
    "#convert date object to datetime format\n",
    "\n",
    "df['date']=pd.to_datetime(df['date'], format='mixed')"
   ]
  },
  {
   "cell_type": "code",
   "execution_count": 47,
   "metadata": {},
   "outputs": [
    {
     "data": {
      "text/html": [
       "<div>\n",
       "<style scoped>\n",
       "    .dataframe tbody tr th:only-of-type {\n",
       "        vertical-align: middle;\n",
       "    }\n",
       "\n",
       "    .dataframe tbody tr th {\n",
       "        vertical-align: top;\n",
       "    }\n",
       "\n",
       "    .dataframe thead th {\n",
       "        text-align: right;\n",
       "    }\n",
       "</style>\n",
       "<table border=\"1\" class=\"dataframe\">\n",
       "  <thead>\n",
       "    <tr style=\"text-align: right;\">\n",
       "      <th></th>\n",
       "      <th>Unnamed: 0</th>\n",
       "      <th>reviews</th>\n",
       "      <th>country</th>\n",
       "      <th>date</th>\n",
       "      <th>verified</th>\n",
       "      <th>corpus</th>\n",
       "    </tr>\n",
       "  </thead>\n",
       "  <tbody>\n",
       "    <tr>\n",
       "      <th>0</th>\n",
       "      <td>0</td>\n",
       "      <td>✅ Trip Verified | I am a British Airways Gold ...</td>\n",
       "      <td>United States</td>\n",
       "      <td>2024-02-11</td>\n",
       "      <td>True</td>\n",
       "      <td>british airway gold guest list member lifetime...</td>\n",
       "    </tr>\n",
       "    <tr>\n",
       "      <th>1</th>\n",
       "      <td>1</td>\n",
       "      <td>Not Verified |  Another case of reviewing Brit...</td>\n",
       "      <td>United Kingdom</td>\n",
       "      <td>2024-02-08</td>\n",
       "      <td>False</td>\n",
       "      <td>verified another case reviewing british airway...</td>\n",
       "    </tr>\n",
       "    <tr>\n",
       "      <th>2</th>\n",
       "      <td>2</td>\n",
       "      <td>✅ Trip Verified | On the memorable day of Janu...</td>\n",
       "      <td>Nigeria</td>\n",
       "      <td>2024-02-06</td>\n",
       "      <td>True</td>\n",
       "      <td>memorable day january th family embarked journ...</td>\n",
       "    </tr>\n",
       "    <tr>\n",
       "      <th>3</th>\n",
       "      <td>3</td>\n",
       "      <td>Not Verified | I did not actually get to fly w...</td>\n",
       "      <td>United Kingdom</td>\n",
       "      <td>2024-02-05</td>\n",
       "      <td>False</td>\n",
       "      <td>verified actually get fly ba cancelled flight ...</td>\n",
       "    </tr>\n",
       "    <tr>\n",
       "      <th>4</th>\n",
       "      <td>4</td>\n",
       "      <td>✅ Trip Verified | We had possibly the worse ch...</td>\n",
       "      <td>United Kingdom</td>\n",
       "      <td>2024-02-02</td>\n",
       "      <td>True</td>\n",
       "      <td>possibly worse check experience ever ever took...</td>\n",
       "    </tr>\n",
       "  </tbody>\n",
       "</table>\n",
       "</div>"
      ],
      "text/plain": [
       "   Unnamed: 0                                            reviews  \\\n",
       "0           0  ✅ Trip Verified | I am a British Airways Gold ...   \n",
       "1           1  Not Verified |  Another case of reviewing Brit...   \n",
       "2           2  ✅ Trip Verified | On the memorable day of Janu...   \n",
       "3           3  Not Verified | I did not actually get to fly w...   \n",
       "4           4  ✅ Trip Verified | We had possibly the worse ch...   \n",
       "\n",
       "          country       date  verified  \\\n",
       "0   United States 2024-02-11      True   \n",
       "1  United Kingdom 2024-02-08     False   \n",
       "2         Nigeria 2024-02-06      True   \n",
       "3  United Kingdom 2024-02-05     False   \n",
       "4  United Kingdom 2024-02-02      True   \n",
       "\n",
       "                                              corpus  \n",
       "0  british airway gold guest list member lifetime...  \n",
       "1  verified another case reviewing british airway...  \n",
       "2  memorable day january th family embarked journ...  \n",
       "3  verified actually get fly ba cancelled flight ...  \n",
       "4  possibly worse check experience ever ever took...  "
      ]
     },
     "execution_count": 47,
     "metadata": {},
     "output_type": "execute_result"
    }
   ],
   "source": [
    "df.head()"
   ]
  },
  {
   "cell_type": "code",
   "execution_count": 48,
   "metadata": {},
   "outputs": [
    {
     "data": {
      "text/plain": [
       "Unnamed: 0             int64\n",
       "reviews               object\n",
       "country               object\n",
       "date          datetime64[ns]\n",
       "verified                bool\n",
       "corpus                object\n",
       "dtype: object"
      ]
     },
     "execution_count": 48,
     "metadata": {},
     "output_type": "execute_result"
    }
   ],
   "source": [
    "df.dtypes"
   ]
  },
  {
   "cell_type": "code",
   "execution_count": 50,
   "metadata": {},
   "outputs": [
    {
     "data": {
      "text/plain": [
       "Unnamed: 0    0\n",
       "reviews       0\n",
       "country       2\n",
       "date          0\n",
       "verified      0\n",
       "corpus        0\n",
       "dtype: int64"
      ]
     },
     "execution_count": 50,
     "metadata": {},
     "output_type": "execute_result"
    }
   ],
   "source": [
    "#check for null values\n",
    "\n",
    "df.isnull().sum()"
   ]
  },
  {
   "cell_type": "code",
   "execution_count": 51,
   "metadata": {},
   "outputs": [],
   "source": [
    "#removing null values\n",
    "\n",
    "df.dropna(subset=['country'],inplace=True)  #removes rows where country column has missing value"
   ]
  },
  {
   "cell_type": "code",
   "execution_count": 52,
   "metadata": {},
   "outputs": [
    {
     "data": {
      "text/plain": [
       "Unnamed: 0    0\n",
       "reviews       0\n",
       "country       0\n",
       "date          0\n",
       "verified      0\n",
       "corpus        0\n",
       "dtype: int64"
      ]
     },
     "execution_count": 52,
     "metadata": {},
     "output_type": "execute_result"
    }
   ],
   "source": [
    "df.isnull().sum()"
   ]
  },
  {
   "cell_type": "code",
   "execution_count": 53,
   "metadata": {},
   "outputs": [
    {
     "data": {
      "text/plain": [
       "(3498, 6)"
      ]
     },
     "execution_count": 53,
     "metadata": {},
     "output_type": "execute_result"
    }
   ],
   "source": [
    "df.shape"
   ]
  },
  {
   "cell_type": "code",
   "execution_count": 54,
   "metadata": {},
   "outputs": [
    {
     "data": {
      "text/html": [
       "<div>\n",
       "<style scoped>\n",
       "    .dataframe tbody tr th:only-of-type {\n",
       "        vertical-align: middle;\n",
       "    }\n",
       "\n",
       "    .dataframe tbody tr th {\n",
       "        vertical-align: top;\n",
       "    }\n",
       "\n",
       "    .dataframe thead th {\n",
       "        text-align: right;\n",
       "    }\n",
       "</style>\n",
       "<table border=\"1\" class=\"dataframe\">\n",
       "  <thead>\n",
       "    <tr style=\"text-align: right;\">\n",
       "      <th></th>\n",
       "      <th>Unnamed: 0</th>\n",
       "      <th>reviews</th>\n",
       "      <th>country</th>\n",
       "      <th>date</th>\n",
       "      <th>verified</th>\n",
       "      <th>corpus</th>\n",
       "    </tr>\n",
       "  </thead>\n",
       "  <tbody>\n",
       "    <tr>\n",
       "      <th>0</th>\n",
       "      <td>0</td>\n",
       "      <td>✅ Trip Verified | I am a British Airways Gold ...</td>\n",
       "      <td>United States</td>\n",
       "      <td>2024-02-11</td>\n",
       "      <td>True</td>\n",
       "      <td>british airway gold guest list member lifetime...</td>\n",
       "    </tr>\n",
       "    <tr>\n",
       "      <th>1</th>\n",
       "      <td>1</td>\n",
       "      <td>Not Verified |  Another case of reviewing Brit...</td>\n",
       "      <td>United Kingdom</td>\n",
       "      <td>2024-02-08</td>\n",
       "      <td>False</td>\n",
       "      <td>verified another case reviewing british airway...</td>\n",
       "    </tr>\n",
       "    <tr>\n",
       "      <th>2</th>\n",
       "      <td>2</td>\n",
       "      <td>✅ Trip Verified | On the memorable day of Janu...</td>\n",
       "      <td>Nigeria</td>\n",
       "      <td>2024-02-06</td>\n",
       "      <td>True</td>\n",
       "      <td>memorable day january th family embarked journ...</td>\n",
       "    </tr>\n",
       "    <tr>\n",
       "      <th>3</th>\n",
       "      <td>3</td>\n",
       "      <td>Not Verified | I did not actually get to fly w...</td>\n",
       "      <td>United Kingdom</td>\n",
       "      <td>2024-02-05</td>\n",
       "      <td>False</td>\n",
       "      <td>verified actually get fly ba cancelled flight ...</td>\n",
       "    </tr>\n",
       "    <tr>\n",
       "      <th>4</th>\n",
       "      <td>4</td>\n",
       "      <td>✅ Trip Verified | We had possibly the worse ch...</td>\n",
       "      <td>United Kingdom</td>\n",
       "      <td>2024-02-02</td>\n",
       "      <td>True</td>\n",
       "      <td>possibly worse check experience ever ever took...</td>\n",
       "    </tr>\n",
       "    <tr>\n",
       "      <th>...</th>\n",
       "      <td>...</td>\n",
       "      <td>...</td>\n",
       "      <td>...</td>\n",
       "      <td>...</td>\n",
       "      <td>...</td>\n",
       "      <td>...</td>\n",
       "    </tr>\n",
       "    <tr>\n",
       "      <th>3493</th>\n",
       "      <td>3495</td>\n",
       "      <td>This was the first long-haul flight I'd taken ...</td>\n",
       "      <td>United Kingdom</td>\n",
       "      <td>2014-09-06</td>\n",
       "      <td>False</td>\n",
       "      <td>first long haul flight taken year high hope lo...</td>\n",
       "    </tr>\n",
       "    <tr>\n",
       "      <th>3494</th>\n",
       "      <td>3496</td>\n",
       "      <td>Economy class on 28 Aug from London (LHR) to N...</td>\n",
       "      <td>United Kingdom</td>\n",
       "      <td>2014-09-06</td>\n",
       "      <td>False</td>\n",
       "      <td>economy class aug london lhr new york jfk boar...</td>\n",
       "    </tr>\n",
       "    <tr>\n",
       "      <th>3495</th>\n",
       "      <td>3497</td>\n",
       "      <td>I'm regularly flying Perth-Hong Kong-London-Po...</td>\n",
       "      <td>Australia</td>\n",
       "      <td>2014-09-06</td>\n",
       "      <td>False</td>\n",
       "      <td>regularly flying perth hong kong london port s...</td>\n",
       "    </tr>\n",
       "    <tr>\n",
       "      <th>3496</th>\n",
       "      <td>3498</td>\n",
       "      <td>Travelled LHR to Montreal 21st August 2014 and...</td>\n",
       "      <td>United Kingdom</td>\n",
       "      <td>2014-09-06</td>\n",
       "      <td>False</td>\n",
       "      <td>avelled lhr montreal st august montreal lhr st...</td>\n",
       "    </tr>\n",
       "    <tr>\n",
       "      <th>3497</th>\n",
       "      <td>3499</td>\n",
       "      <td>Booked a British Airways holiday so that's fli...</td>\n",
       "      <td>United Kingdom</td>\n",
       "      <td>2014-09-06</td>\n",
       "      <td>False</td>\n",
       "      <td>booked british airway holiday flight hotel lon...</td>\n",
       "    </tr>\n",
       "  </tbody>\n",
       "</table>\n",
       "<p>3498 rows × 6 columns</p>\n",
       "</div>"
      ],
      "text/plain": [
       "      Unnamed: 0                                            reviews  \\\n",
       "0              0  ✅ Trip Verified | I am a British Airways Gold ...   \n",
       "1              1  Not Verified |  Another case of reviewing Brit...   \n",
       "2              2  ✅ Trip Verified | On the memorable day of Janu...   \n",
       "3              3  Not Verified | I did not actually get to fly w...   \n",
       "4              4  ✅ Trip Verified | We had possibly the worse ch...   \n",
       "...          ...                                                ...   \n",
       "3493        3495  This was the first long-haul flight I'd taken ...   \n",
       "3494        3496  Economy class on 28 Aug from London (LHR) to N...   \n",
       "3495        3497  I'm regularly flying Perth-Hong Kong-London-Po...   \n",
       "3496        3498  Travelled LHR to Montreal 21st August 2014 and...   \n",
       "3497        3499  Booked a British Airways holiday so that's fli...   \n",
       "\n",
       "             country       date  verified  \\\n",
       "0      United States 2024-02-11      True   \n",
       "1     United Kingdom 2024-02-08     False   \n",
       "2            Nigeria 2024-02-06      True   \n",
       "3     United Kingdom 2024-02-05     False   \n",
       "4     United Kingdom 2024-02-02      True   \n",
       "...              ...        ...       ...   \n",
       "3493  United Kingdom 2014-09-06     False   \n",
       "3494  United Kingdom 2014-09-06     False   \n",
       "3495       Australia 2014-09-06     False   \n",
       "3496  United Kingdom 2014-09-06     False   \n",
       "3497  United Kingdom 2014-09-06     False   \n",
       "\n",
       "                                                 corpus  \n",
       "0     british airway gold guest list member lifetime...  \n",
       "1     verified another case reviewing british airway...  \n",
       "2     memorable day january th family embarked journ...  \n",
       "3     verified actually get fly ba cancelled flight ...  \n",
       "4     possibly worse check experience ever ever took...  \n",
       "...                                                 ...  \n",
       "3493  first long haul flight taken year high hope lo...  \n",
       "3494  economy class aug london lhr new york jfk boar...  \n",
       "3495  regularly flying perth hong kong london port s...  \n",
       "3496  avelled lhr montreal st august montreal lhr st...  \n",
       "3497  booked british airway holiday flight hotel lon...  \n",
       "\n",
       "[3498 rows x 6 columns]"
      ]
     },
     "execution_count": 54,
     "metadata": {},
     "output_type": "execute_result"
    }
   ],
   "source": [
    "df.reset_index(drop=True)"
   ]
  },
  {
   "cell_type": "code",
   "execution_count": 55,
   "metadata": {},
   "outputs": [],
   "source": [
    "df.to_csv(\"D:\\Bovas\\Data Analysis Projects\\BA\\Cleaned data.csv\")"
   ]
  }
 ],
 "metadata": {
  "kernelspec": {
   "display_name": "base",
   "language": "python",
   "name": "python3"
  },
  "language_info": {
   "codemirror_mode": {
    "name": "ipython",
    "version": 3
   },
   "file_extension": ".py",
   "mimetype": "text/x-python",
   "name": "python",
   "nbconvert_exporter": "python",
   "pygments_lexer": "ipython3",
   "version": "3.11.5"
  }
 },
 "nbformat": 4,
 "nbformat_minor": 2
}
